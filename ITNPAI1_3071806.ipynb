{
  "nbformat": 4,
  "nbformat_minor": 0,
  "metadata": {
    "colab": {
      "provenance": [],
      "mount_file_id": "https://github.com/workingbetter/ITNPAI1/blob/main/ITNPAI1_3071806.ipynb",
      "authorship_tag": "ABX9TyO3X7ecyKqSx87jyxSdSYKE",
      "include_colab_link": true
    },
    "kernelspec": {
      "name": "python3",
      "display_name": "Python 3"
    },
    "language_info": {
      "name": "python"
    }
  },
  "cells": [
    {
      "cell_type": "markdown",
      "metadata": {
        "id": "view-in-github",
        "colab_type": "text"
      },
      "source": [
        "<a href=\"https://colab.research.google.com/github/workingbetter/ITNPAI1/blob/main/ITNPAI1_3071806.ipynb\" target=\"_parent\"><img src=\"https://colab.research.google.com/assets/colab-badge.svg\" alt=\"Open In Colab\"/></a>"
      ]
    },
    {
      "cell_type": "markdown",
      "source": [
        "---\n",
        "\n",
        "#University of Stirling - Spring 2023\n",
        "\n",
        "## ITNPAI1 - Deep Learning for Vision and NLP (2022/3)\n",
        "\n",
        "---"
      ],
      "metadata": {
        "id": "-sGBEu0SQnVO"
      }
    },
    {
      "cell_type": "markdown",
      "source": [
        "# ITNPAI1 Project\n",
        "MICHAEL BOGALE\n",
        "3071806"
      ],
      "metadata": {
        "id": "fluVnbKYscWk"
      }
    },
    {
      "cell_type": "markdown",
      "source": [
        "# 1. Problem Defination\n",
        "## Image Classification problem\n",
        "Creating a deep learning model that classifies cars and trees on image dataset collected from Areal imaging on Google Earth Pro and testing its performance.\n",
        "## Dataset collected \n",
        "Addis Ababa \n",
        "\n",
        "Stirling\n",
        "\n",
        "\n"
      ],
      "metadata": {
        "id": "mN5V5jz1yz4B"
      }
    },
    {
      "cell_type": "markdown",
      "source": [
        "# 2. Github repository\n",
        "repository created\n",
        "\n",
        "###Invitation sent usernames\n",
        "\n",
        "1. sandyCarmichael\n",
        "2. vak000\n",
        "3. jeferssonalex"
      ],
      "metadata": {
        "id": "BC0oK5nKza0q"
      }
    },
    {
      "cell_type": "markdown",
      "source": [
        "# 3. Dataset Creation\n",
        "##Created dataset containing 400 images on each subset\n",
        "## Addis Ababa Labeled Images\n",
        "####Addis Ababa Car (400)\n",
        "####Addis Ababa Tree (400)\n",
        "####Addis Ababa Neither (400)\n",
        "## Stirling Labeled Images\n",
        "####Stirling Car (400)\n",
        "####Stirling Tree (400)\n",
        "####Stirling Neither (400)\n",
        "\n",
        "\n"
      ],
      "metadata": {
        "id": "Sxe_lRe8zvcx"
      }
    },
    {
      "cell_type": "code",
      "source": [],
      "metadata": {
        "id": "NTKze0WG-vrE"
      },
      "execution_count": null,
      "outputs": []
    },
    {
      "cell_type": "markdown",
      "source": [
        "Creating labeling Dataframe and also extracting it to csv file for easier access"
      ],
      "metadata": {
        "id": "Rdvep84hLYv8"
      }
    },
    {
      "cell_type": "code",
      "source": [
        "import os\n",
        "import pandas as pd\n",
        "\"\"\"the dataset is locate on my drive therefore it cant be accessed directly from github\n",
        "may be i will find a way to access the zip file in github \"\"\"\n",
        "\n",
        "# Directory path Image dataset\n",
        "stir_path = \"/content/drive/MyDrive/Deep learning/dataset/Stirling Labeled/\"\n",
        "addis_path = \"/content/drive/MyDrive/Deep learning/dataset/Addis Ababa Labeled/\"\n",
        "\n",
        "# Defining a function for generating dataframe of lables \n",
        "def labeler_csv(path):\n",
        "  data = []\n",
        "  for folder in os.listdir(path):\n",
        "      for file in os.listdir(os.path.join(path, folder)):\n",
        "        if file != '.DS_Store':\n",
        "          data.append([os.path.join(folder, file), folder])\n",
        "  df = pd.DataFrame(data, columns=['filename', 'label'])\n",
        "  # df.to_csv('/content/drive/MyDrive/Stirling_labels.csv', index=False)\n",
        "  return(df)\n",
        "\n",
        "print(labeler_csv(stir_path))"
      ],
      "metadata": {
        "id": "kEpo1o7NLjQN",
        "outputId": "ebb998a3-96c3-41d1-be64-ec53b6aaa5d4",
        "colab": {
          "base_uri": "https://localhost:8080/"
        }
      },
      "execution_count": null,
      "outputs": [
        {
          "output_type": "stream",
          "name": "stdout",
          "text": [
            "                   filename label\n",
            "0       car/image1_1x13.jpg   car\n",
            "1       car/image1_3x10.jpg   car\n",
            "2       car/image1_3x11.jpg   car\n",
            "3        car/image1_7x1.jpg   car\n",
            "4       car/image1_7x29.jpg   car\n",
            "...                     ...   ...\n",
            "1195   tree/image9_8x30.jpg  tree\n",
            "1196  tree/image10_1x13.jpg  tree\n",
            "1197  tree/image10_1x11.jpg  tree\n",
            "1198  tree/image10_1x14.jpg  tree\n",
            "1199  tree/image10_1x16.jpg  tree\n",
            "\n",
            "[1200 rows x 2 columns]\n"
          ]
        }
      ]
    },
    {
      "cell_type": "code",
      "source": [],
      "metadata": {
        "id": "VM-ZZVCJ-c_k"
      },
      "execution_count": null,
      "outputs": []
    },
    {
      "cell_type": "code",
      "source": [],
      "metadata": {
        "id": "6bnud3D--WrO"
      },
      "execution_count": null,
      "outputs": []
    },
    {
      "cell_type": "code",
      "source": [],
      "metadata": {
        "id": "ArD3_ocM-SNq"
      },
      "execution_count": null,
      "outputs": []
    },
    {
      "cell_type": "code",
      "source": [],
      "metadata": {
        "id": "Bbp2R_fpz1oo"
      },
      "execution_count": null,
      "outputs": []
    },
    {
      "cell_type": "code",
      "source": [],
      "metadata": {
        "id": "efshpl82ztdL"
      },
      "execution_count": null,
      "outputs": []
    },
    {
      "cell_type": "code",
      "source": [],
      "metadata": {
        "id": "ww9UkckRy4-t"
      },
      "execution_count": null,
      "outputs": []
    },
    {
      "cell_type": "code",
      "source": [],
      "metadata": {
        "id": "CADAupiFQn8n"
      },
      "execution_count": null,
      "outputs": []
    }
  ]
}