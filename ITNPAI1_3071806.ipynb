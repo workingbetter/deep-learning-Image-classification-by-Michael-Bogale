{
  "nbformat": 4,
  "nbformat_minor": 0,
  "metadata": {
    "colab": {
      "provenance": [],
      "authorship_tag": "ABX9TyPagcrXcY3byPOnvvE3IghG",
      "include_colab_link": true
    },
    "kernelspec": {
      "name": "python3",
      "display_name": "Python 3"
    },
    "language_info": {
      "name": "python"
    }
  },
  "cells": [
    {
      "cell_type": "markdown",
      "metadata": {
        "id": "view-in-github",
        "colab_type": "text"
      },
      "source": [
        "<a href=\"https://colab.research.google.com/github/workingbetter/ITNPAI1/blob/main/ITNPAI1_3071806.ipynb\" target=\"_parent\"><img src=\"https://colab.research.google.com/assets/colab-badge.svg\" alt=\"Open In Colab\"/></a>"
      ]
    },
    {
      "cell_type": "markdown",
      "source": [
        "# ITNPAI1 Project\n",
        "Michael Bogale\n",
        "3071806"
      ],
      "metadata": {
        "id": "fluVnbKYscWk"
      }
    },
    {
      "cell_type": "code",
      "source": [],
      "metadata": {
        "id": "ScBnBJNjslHZ"
      },
      "execution_count": null,
      "outputs": []
    },
    {
      "cell_type": "code",
      "execution_count": null,
      "metadata": {
        "id": "JxV9RiyXr2ww"
      },
      "outputs": [],
      "source": []
    }
  ]
}