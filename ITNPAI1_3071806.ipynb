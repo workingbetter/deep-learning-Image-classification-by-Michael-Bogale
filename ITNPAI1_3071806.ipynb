{
  "nbformat": 4,
  "nbformat_minor": 0,
  "metadata": {
    "colab": {
      "provenance": [],
      "authorship_tag": "ABX9TyNQKU6s/Pk0zPCitu9LETMr",
      "include_colab_link": true
    },
    "kernelspec": {
      "name": "python3",
      "display_name": "Python 3"
    },
    "language_info": {
      "name": "python"
    }
  },
  "cells": [
    {
      "cell_type": "markdown",
      "metadata": {
        "id": "view-in-github",
        "colab_type": "text"
      },
      "source": [
        "<a href=\"https://colab.research.google.com/github/workingbetter/ITNPAI1/blob/main/ITNPAI1_3071806.ipynb\" target=\"_parent\"><img src=\"https://colab.research.google.com/assets/colab-badge.svg\" alt=\"Open In Colab\"/></a>"
      ]
    },
    {
      "cell_type": "markdown",
      "source": [
        "# ITNPAI1 Project\n",
        "Michael Bogale\n",
        "3071806"
      ],
      "metadata": {
        "id": "fluVnbKYscWk"
      }
    },
    {
      "cell_type": "code",
      "execution_count": null,
      "metadata": {
        "id": "JxV9RiyXr2ww"
      },
      "outputs": [],
      "source": []
    },
    {
      "cell_type": "markdown",
      "source": [
        "---\n",
        "\n",
        "#University of Stirling - Spring 2023\n",
        "\n",
        "## ITNPAI1 - Deep Learning for Vision and NLP (2022/3)\n",
        "\n",
        "---"
      ],
      "metadata": {
        "id": "-sGBEu0SQnVO"
      }
    },
    {
      "cell_type": "markdown",
      "source": [
        "# 1. Problem Defination\n",
        "## Image Classification\n",
        "#### A model that identifies car and Trees if there is any"
      ],
      "metadata": {
        "id": "mN5V5jz1yz4B"
      }
    },
    {
      "cell_type": "markdown",
      "source": [
        "# 2. Github repository\n",
        "Invitation sent"
      ],
      "metadata": {
        "id": "BC0oK5nKza0q"
      }
    },
    {
      "cell_type": "markdown",
      "source": [
        "# 3. Dataset Creation\n",
        "##Created dataset containing 400 images on each subset\n",
        "## Addis Ababa Labeled Images\n",
        "####Addis Ababa Car (400)\n",
        "####Addis Ababa Tree (400)\n",
        "####Addis Ababa Neither (400)\n",
        "## Stirling Labeled Images\n",
        "####Stirling Car (400)\n",
        "####Stirling Tree (400)\n",
        "####Stirling Neither (400)\n",
        "\n",
        "\n"
      ],
      "metadata": {
        "id": "Sxe_lRe8zvcx"
      }
    },
    {
      "cell_type": "code",
      "source": [],
      "metadata": {
        "id": "NTKze0WG-vrE"
      },
      "execution_count": null,
      "outputs": []
    },
    {
      "cell_type": "code",
      "source": [],
      "metadata": {
        "id": "VM-ZZVCJ-c_k"
      },
      "execution_count": null,
      "outputs": []
    },
    {
      "cell_type": "code",
      "source": [],
      "metadata": {
        "id": "6bnud3D--WrO"
      },
      "execution_count": null,
      "outputs": []
    },
    {
      "cell_type": "code",
      "source": [],
      "metadata": {
        "id": "ArD3_ocM-SNq"
      },
      "execution_count": null,
      "outputs": []
    },
    {
      "cell_type": "code",
      "source": [],
      "metadata": {
        "id": "Bbp2R_fpz1oo"
      },
      "execution_count": null,
      "outputs": []
    },
    {
      "cell_type": "code",
      "source": [],
      "metadata": {
        "id": "efshpl82ztdL"
      },
      "execution_count": null,
      "outputs": []
    },
    {
      "cell_type": "code",
      "source": [],
      "metadata": {
        "id": "ww9UkckRy4-t"
      },
      "execution_count": null,
      "outputs": []
    },
    {
      "cell_type": "code",
      "source": [],
      "metadata": {
        "id": "CADAupiFQn8n"
      },
      "execution_count": null,
      "outputs": []
    }
  ]
}