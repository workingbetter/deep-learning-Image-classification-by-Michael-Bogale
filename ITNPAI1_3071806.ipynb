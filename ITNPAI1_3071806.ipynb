{
  "nbformat": 4,
  "nbformat_minor": 0,
  "metadata": {
    "colab": {
      "provenance": [],
      "mount_file_id": "https://github.com/workingbetter/ITNPAI1/blob/main/ITNPAI1_3071806.ipynb",
      "authorship_tag": "ABX9TyPh05YiKncFwxO0qZnEmn3c",
      "include_colab_link": true
    },
    "kernelspec": {
      "name": "python3",
      "display_name": "Python 3"
    },
    "language_info": {
      "name": "python"
    }
  },
  "cells": [
    {
      "cell_type": "markdown",
      "metadata": {
        "id": "view-in-github",
        "colab_type": "text"
      },
      "source": [
        "<a href=\"https://colab.research.google.com/github/workingbetter/ITNPAI1/blob/main/ITNPAI1_3071806.ipynb\" target=\"_parent\"><img src=\"https://colab.research.google.com/assets/colab-badge.svg\" alt=\"Open In Colab\"/></a>"
      ]
    },
    {
      "cell_type": "markdown",
      "source": [
        "---\n",
        "\n",
        "#University of Stirling - Spring 2023\n",
        "\n",
        "## ITNPAI1 - Deep Learning for Vision and NLP (2022/3)\n",
        "\n",
        "---"
      ],
      "metadata": {
        "id": "-sGBEu0SQnVO"
      }
    },
    {
      "cell_type": "markdown",
      "source": [
        "# ITNPAI1 Project\n",
        "MICHAEL BOGALE\n",
        "3071806"
      ],
      "metadata": {
        "id": "fluVnbKYscWk"
      }
    },
    {
      "cell_type": "markdown",
      "source": [
        "---\n",
        "# 1. Problem Defination\n",
        "## Image Classification problem\n",
        "Creating a deep learning model that classifies cars and trees on image dataset collected from Areal imaging on Google Earth Pro and testing its performance.\n",
        "## Dataset collected \n",
        "Addis Ababa \n",
        "\n",
        "Stirling"
      ],
      "metadata": {
        "id": "mN5V5jz1yz4B"
      }
    },
    {
      "cell_type": "markdown",
      "source": [
        "---\n",
        "# 2. Github repository\n",
        "repository created\n",
        "\n",
        "###Invitation sent usernames\n",
        "\n",
        "1. sandyCarmichael\n",
        "2. vak000\n",
        "3. jeferssonalex"
      ],
      "metadata": {
        "id": "BC0oK5nKza0q"
      }
    },
    {
      "cell_type": "markdown",
      "source": [
        "---\n",
        "# 3. Dataset Creation\n",
        "##Created dataset containing 400 images on each subset\n",
        "## Addis Ababa Labeled Images\n",
        "####Addis Ababa Car (400)\n",
        "####Addis Ababa Tree (400)\n",
        "####Addis Ababa Neither (400)\n",
        "## Stirling Labeled Images\n",
        "####Stirling Car (400)\n",
        "####Stirling Tree (400)\n",
        "####Stirling Neither (400)\n",
        "\n",
        "\n"
      ],
      "metadata": {
        "id": "Sxe_lRe8zvcx"
      }
    },
    {
      "cell_type": "markdown",
      "source": [
        "---\n",
        "# 4. Dataloader\n",
        "1. Pre processing\n",
        "2. Cleaning\n",
        "3. De-noising"
      ],
      "metadata": {
        "id": "HHzmtR0wz7CJ"
      }
    },
    {
      "cell_type": "markdown",
      "source": [
        "## 4.1. Pre processing"
      ],
      "metadata": {
        "id": "obiSYYmJEAlC"
      }
    },
    {
      "cell_type": "markdown",
      "source": [
        "labeling Dataframe function created\n",
        "\n",
        "extracting to csv line utilized\n",
        "\n",
        "label csv is created for easier access"
      ],
      "metadata": {
        "id": "Rdvep84hLYv8"
      }
    },
    {
      "cell_type": "code",
      "source": [
        "import os\n",
        "import pandas as pd\n",
        "\"\"\"the dataset is locate on my drive therefore it can not be accessed directly from github\n",
        "may be i will find a way to access the zip file in github later \"\"\"\n",
        "\n",
        "# Directory path Image dataset\n",
        "stir_path = \"/content/drive/MyDrive/Deep learning/dataset/Stirling Labeled/\"\n",
        "addis_path = \"/content/drive/MyDrive/Deep learning/dataset/Addis Ababa Labeled/\"\n",
        "\n",
        "# Defining a function for generating dataframe of lables \n",
        "def labeler_csv(path):\n",
        "  data = []\n",
        "  for folder in os.listdir(path):\n",
        "      for file in os.listdir(os.path.join(path, folder)):\n",
        "        if file != '.DS_Store':\n",
        "          data.append([os.path.join(folder, file), folder])\n",
        "  df = pd.DataFrame(data, columns=['filename', 'label'])\n",
        "  # df.to_csv('/content/drive/MyDrive/Stirling_labels.csv', index=False)\n",
        "  return(df)\n",
        "\n",
        "display(labeler_csv(stir_path))"
      ],
      "metadata": {
        "id": "kEpo1o7NLjQN",
        "outputId": "c17dc0b7-d724-4df4-b30a-669e89ed68df",
        "colab": {
          "base_uri": "https://localhost:8080/",
          "height": 423
        }
      },
      "execution_count": 1,
      "outputs": [
        {
          "output_type": "display_data",
          "data": {
            "text/plain": [
              "                   filename label\n",
              "0       car/image1_1x13.jpg   car\n",
              "1       car/image1_3x10.jpg   car\n",
              "2       car/image1_3x11.jpg   car\n",
              "3        car/image1_7x1.jpg   car\n",
              "4       car/image1_7x29.jpg   car\n",
              "...                     ...   ...\n",
              "1195   tree/image9_8x30.jpg  tree\n",
              "1196  tree/image10_1x13.jpg  tree\n",
              "1197  tree/image10_1x11.jpg  tree\n",
              "1198  tree/image10_1x14.jpg  tree\n",
              "1199  tree/image10_1x16.jpg  tree\n",
              "\n",
              "[1200 rows x 2 columns]"
            ],
            "text/html": [
              "\n",
              "  <div id=\"df-86f12da2-f5f5-4dae-9f26-9e454a6cecee\">\n",
              "    <div class=\"colab-df-container\">\n",
              "      <div>\n",
              "<style scoped>\n",
              "    .dataframe tbody tr th:only-of-type {\n",
              "        vertical-align: middle;\n",
              "    }\n",
              "\n",
              "    .dataframe tbody tr th {\n",
              "        vertical-align: top;\n",
              "    }\n",
              "\n",
              "    .dataframe thead th {\n",
              "        text-align: right;\n",
              "    }\n",
              "</style>\n",
              "<table border=\"1\" class=\"dataframe\">\n",
              "  <thead>\n",
              "    <tr style=\"text-align: right;\">\n",
              "      <th></th>\n",
              "      <th>filename</th>\n",
              "      <th>label</th>\n",
              "    </tr>\n",
              "  </thead>\n",
              "  <tbody>\n",
              "    <tr>\n",
              "      <th>0</th>\n",
              "      <td>car/image1_1x13.jpg</td>\n",
              "      <td>car</td>\n",
              "    </tr>\n",
              "    <tr>\n",
              "      <th>1</th>\n",
              "      <td>car/image1_3x10.jpg</td>\n",
              "      <td>car</td>\n",
              "    </tr>\n",
              "    <tr>\n",
              "      <th>2</th>\n",
              "      <td>car/image1_3x11.jpg</td>\n",
              "      <td>car</td>\n",
              "    </tr>\n",
              "    <tr>\n",
              "      <th>3</th>\n",
              "      <td>car/image1_7x1.jpg</td>\n",
              "      <td>car</td>\n",
              "    </tr>\n",
              "    <tr>\n",
              "      <th>4</th>\n",
              "      <td>car/image1_7x29.jpg</td>\n",
              "      <td>car</td>\n",
              "    </tr>\n",
              "    <tr>\n",
              "      <th>...</th>\n",
              "      <td>...</td>\n",
              "      <td>...</td>\n",
              "    </tr>\n",
              "    <tr>\n",
              "      <th>1195</th>\n",
              "      <td>tree/image9_8x30.jpg</td>\n",
              "      <td>tree</td>\n",
              "    </tr>\n",
              "    <tr>\n",
              "      <th>1196</th>\n",
              "      <td>tree/image10_1x13.jpg</td>\n",
              "      <td>tree</td>\n",
              "    </tr>\n",
              "    <tr>\n",
              "      <th>1197</th>\n",
              "      <td>tree/image10_1x11.jpg</td>\n",
              "      <td>tree</td>\n",
              "    </tr>\n",
              "    <tr>\n",
              "      <th>1198</th>\n",
              "      <td>tree/image10_1x14.jpg</td>\n",
              "      <td>tree</td>\n",
              "    </tr>\n",
              "    <tr>\n",
              "      <th>1199</th>\n",
              "      <td>tree/image10_1x16.jpg</td>\n",
              "      <td>tree</td>\n",
              "    </tr>\n",
              "  </tbody>\n",
              "</table>\n",
              "<p>1200 rows × 2 columns</p>\n",
              "</div>\n",
              "      <button class=\"colab-df-convert\" onclick=\"convertToInteractive('df-86f12da2-f5f5-4dae-9f26-9e454a6cecee')\"\n",
              "              title=\"Convert this dataframe to an interactive table.\"\n",
              "              style=\"display:none;\">\n",
              "        \n",
              "  <svg xmlns=\"http://www.w3.org/2000/svg\" height=\"24px\"viewBox=\"0 0 24 24\"\n",
              "       width=\"24px\">\n",
              "    <path d=\"M0 0h24v24H0V0z\" fill=\"none\"/>\n",
              "    <path d=\"M18.56 5.44l.94 2.06.94-2.06 2.06-.94-2.06-.94-.94-2.06-.94 2.06-2.06.94zm-11 1L8.5 8.5l.94-2.06 2.06-.94-2.06-.94L8.5 2.5l-.94 2.06-2.06.94zm10 10l.94 2.06.94-2.06 2.06-.94-2.06-.94-.94-2.06-.94 2.06-2.06.94z\"/><path d=\"M17.41 7.96l-1.37-1.37c-.4-.4-.92-.59-1.43-.59-.52 0-1.04.2-1.43.59L10.3 9.45l-7.72 7.72c-.78.78-.78 2.05 0 2.83L4 21.41c.39.39.9.59 1.41.59.51 0 1.02-.2 1.41-.59l7.78-7.78 2.81-2.81c.8-.78.8-2.07 0-2.86zM5.41 20L4 18.59l7.72-7.72 1.47 1.35L5.41 20z\"/>\n",
              "  </svg>\n",
              "      </button>\n",
              "      \n",
              "  <style>\n",
              "    .colab-df-container {\n",
              "      display:flex;\n",
              "      flex-wrap:wrap;\n",
              "      gap: 12px;\n",
              "    }\n",
              "\n",
              "    .colab-df-convert {\n",
              "      background-color: #E8F0FE;\n",
              "      border: none;\n",
              "      border-radius: 50%;\n",
              "      cursor: pointer;\n",
              "      display: none;\n",
              "      fill: #1967D2;\n",
              "      height: 32px;\n",
              "      padding: 0 0 0 0;\n",
              "      width: 32px;\n",
              "    }\n",
              "\n",
              "    .colab-df-convert:hover {\n",
              "      background-color: #E2EBFA;\n",
              "      box-shadow: 0px 1px 2px rgba(60, 64, 67, 0.3), 0px 1px 3px 1px rgba(60, 64, 67, 0.15);\n",
              "      fill: #174EA6;\n",
              "    }\n",
              "\n",
              "    [theme=dark] .colab-df-convert {\n",
              "      background-color: #3B4455;\n",
              "      fill: #D2E3FC;\n",
              "    }\n",
              "\n",
              "    [theme=dark] .colab-df-convert:hover {\n",
              "      background-color: #434B5C;\n",
              "      box-shadow: 0px 1px 3px 1px rgba(0, 0, 0, 0.15);\n",
              "      filter: drop-shadow(0px 1px 2px rgba(0, 0, 0, 0.3));\n",
              "      fill: #FFFFFF;\n",
              "    }\n",
              "  </style>\n",
              "\n",
              "      <script>\n",
              "        const buttonEl =\n",
              "          document.querySelector('#df-86f12da2-f5f5-4dae-9f26-9e454a6cecee button.colab-df-convert');\n",
              "        buttonEl.style.display =\n",
              "          google.colab.kernel.accessAllowed ? 'block' : 'none';\n",
              "\n",
              "        async function convertToInteractive(key) {\n",
              "          const element = document.querySelector('#df-86f12da2-f5f5-4dae-9f26-9e454a6cecee');\n",
              "          const dataTable =\n",
              "            await google.colab.kernel.invokeFunction('convertToInteractive',\n",
              "                                                     [key], {});\n",
              "          if (!dataTable) return;\n",
              "\n",
              "          const docLinkHtml = 'Like what you see? Visit the ' +\n",
              "            '<a target=\"_blank\" href=https://colab.research.google.com/notebooks/data_table.ipynb>data table notebook</a>'\n",
              "            + ' to learn more about interactive tables.';\n",
              "          element.innerHTML = '';\n",
              "          dataTable['output_type'] = 'display_data';\n",
              "          await google.colab.output.renderOutput(dataTable, element);\n",
              "          const docLink = document.createElement('div');\n",
              "          docLink.innerHTML = docLinkHtml;\n",
              "          element.appendChild(docLink);\n",
              "        }\n",
              "      </script>\n",
              "    </div>\n",
              "  </div>\n",
              "  "
            ]
          },
          "metadata": {}
        }
      ]
    },
    {
      "cell_type": "code",
      "source": [],
      "metadata": {
        "id": "VM-ZZVCJ-c_k"
      },
      "execution_count": null,
      "outputs": []
    },
    {
      "cell_type": "code",
      "source": [],
      "metadata": {
        "id": "6bnud3D--WrO"
      },
      "execution_count": null,
      "outputs": []
    },
    {
      "cell_type": "code",
      "source": [],
      "metadata": {
        "id": "ArD3_ocM-SNq"
      },
      "execution_count": null,
      "outputs": []
    },
    {
      "cell_type": "code",
      "source": [],
      "metadata": {
        "id": "Bbp2R_fpz1oo"
      },
      "execution_count": null,
      "outputs": []
    },
    {
      "cell_type": "code",
      "source": [],
      "metadata": {
        "id": "efshpl82ztdL"
      },
      "execution_count": null,
      "outputs": []
    },
    {
      "cell_type": "code",
      "source": [],
      "metadata": {
        "id": "ww9UkckRy4-t"
      },
      "execution_count": null,
      "outputs": []
    },
    {
      "cell_type": "code",
      "source": [],
      "metadata": {
        "id": "CADAupiFQn8n"
      },
      "execution_count": null,
      "outputs": []
    }
  ]
}