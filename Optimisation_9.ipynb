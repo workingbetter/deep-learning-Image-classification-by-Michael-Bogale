{
  "nbformat": 4,
  "nbformat_minor": 0,
  "metadata": {
    "colab": {
      "provenance": [],
      "authorship_tag": "ABX9TyO7LgQI884NPUPVTV8Eh/cc",
      "include_colab_link": true
    },
    "kernelspec": {
      "name": "python3",
      "display_name": "Python 3"
    },
    "language_info": {
      "name": "python"
    }
  },
  "cells": [
    {
      "cell_type": "markdown",
      "metadata": {
        "id": "view-in-github",
        "colab_type": "text"
      },
      "source": [
        "<a href=\"https://colab.research.google.com/github/workingbetter/ITNPAI1/blob/main/Optimisation_9.ipynb\" target=\"_parent\"><img src=\"https://colab.research.google.com/assets/colab-badge.svg\" alt=\"Open In Colab\"/></a>"
      ]
    },
    {
      "cell_type": "code",
      "execution_count": 2,
      "metadata": {
        "colab": {
          "base_uri": "https://localhost:8080/"
        },
        "id": "qr8hb6t88Xv2",
        "outputId": "627e2459-95e6-45ec-fd81-1d6e809b31d5"
      },
      "outputs": [
        {
          "output_type": "stream",
          "name": "stdout",
          "text": [
            "(1, 4, 7, 3, 10, 9, 2, 8, 6, 5) 67\n",
            "RunTime =  21.249008655548096\n"
          ]
        }
      ],
      "source": [
        "import numpy \n",
        "from itertools import permutations\n",
        "import time\n",
        "\n",
        "start = time.time()    #Times the code\n",
        "\n",
        "########## Data for question 1\n",
        "    \n",
        "#Distance matrix Q1a\n",
        "dist = numpy.array([[0, 4, 7, 6, 5],[4, 0, 7, 4, 8],[7, 7, 0, 9, 10],[6, 4, 9, 0, 3],[5, 8, 10, 3, 0]]) \n",
        "\n",
        "\n",
        "#Distance matrix Q1b    \n",
        "dist = numpy.array([[0,17,10,5,4,9,14,10,21,16],[17,0,11,14,13,8,21,8,13,11],[10,11,0,6,7,5,10,4,10,5],[5,14,6,0,3,7,11,6,16,11],[4,13,7,3,0,5,14,6,17,12],[9,8,5,7,5,0,15,1,14,9],[14,21,10,11,14,15,0,14,14,11],[10,8,4,6,6,1,14,0,13,8],[21,13,10,16,17,14,14,13,0,5],[16,11,5,11,12,9,11,8 ,5,0]])    \n",
        "\n",
        "\n",
        "########## Finds all possible permutations of paths of the required length\n",
        "\n",
        "size = len(dist[1,:])  #Gives the number of nodes\n",
        "path = []     #Start with an empty vector\n",
        "for i in range(size):\n",
        "    path.append(i+1)   #Buids up a vector of 1,2,3,4...,n  \n",
        "all_paths = permutations (path)   #uses \"permutations\" command to get all paths\n",
        "\n",
        "\n",
        "########## Calculates the distance of each path, one at a time\n",
        "best_distance =999   #set an very high initial best distance (as minimising)\n",
        "for route in all_paths:\n",
        "    new_distance = dist[route[size-1]-1][route[0]-1] #  back to the start inclued first\n",
        "    for i in range(size-1):\n",
        "        new_distance = new_distance + dist[route[i]-1][route[i+1]-1] # now all the intermediate steps\n",
        "    \n",
        "    ##### Check if new path is shorter than best path      \n",
        "    if new_distance < best_distance:\n",
        "        best_distance = new_distance\n",
        "        best_path = route\n",
        "\n",
        "# print answer\n",
        "print(best_path, best_distance)\n",
        "\n",
        "end = time.time()\n",
        "print('RunTime = ',end-start)   #prints out time taken for code to run\n",
        "\n"
      ]
    },
    {
      "cell_type": "markdown",
      "source": [
        "#Q2"
      ],
      "metadata": {
        "id": "EY3EbA9e_0YT"
      }
    },
    {
      "cell_type": "code",
      "source": [
        "import numpy \n",
        "from itertools import permutations\n",
        "import time\n",
        "\n",
        "start = time.time()    #Times the code\n",
        "\n",
        "########## Data for the question 2 (random matrix)\n",
        "# n = int(input())\n",
        "nlist = [7, 8, 9, 10]\n",
        "# n=5   #size of problem (number of nodes/cities)\n",
        "def bruteforce(a):\n",
        "  for n in a:\n",
        "    dist = numpy.random.randint(1,20,(n,n))  #Random integer matrix, size n (min=1, max=20 here)  \n",
        "\n",
        "\n",
        "    ########## Finds all possible permutations of paths of the required length\n",
        "\n",
        "    size = len(dist[1,:])  #Gives the number of nodes\n",
        "    path = []     #Start with an empty vector\n",
        "    for i in range(size):\n",
        "        path.append(i+1)   #Buids up a vector of 1,2,3,4...,n  \n",
        "    all_paths = permutations (path)   #uses \"permutations\" command to get all paths\n",
        "\n",
        "\n",
        "    ########## Calculates the distance of each path, one at a time\n",
        "    best_distance =999   #set an very high initial best distance (as minimising)\n",
        "    for route in all_paths:\n",
        "        new_distance = dist[route[size-1]-1][route[0]-1] #  back to the start inclued first\n",
        "        for i in range(size-1):\n",
        "            new_distance = new_distance + dist[route[i]-1][route[i+1]-1] # now all the intermediate steps\n",
        "        \n",
        "        ##### Check if new path is shorter than best path      \n",
        "        if new_distance < best_distance:\n",
        "            best_distance = new_distance\n",
        "            best_path = route\n",
        "\n",
        "    # print answer\n",
        "    print(f\"n = {n}\")\n",
        "    print(best_path, best_distance)\n",
        "\n",
        "    end = time.time()\n",
        "    print('RunTime = ',end-start)   #prints out time taken for code to run\n",
        "\n",
        "bruteforce(nlist)"
      ],
      "metadata": {
        "colab": {
          "base_uri": "https://localhost:8080/"
        },
        "id": "yWrd_UZM_2SC",
        "outputId": "f414103e-69d8-47ad-b5a7-f4a37039af94"
      },
      "execution_count": 10,
      "outputs": [
        {
          "output_type": "stream",
          "name": "stdout",
          "text": [
            "n = 7\n",
            "(1, 3, 2, 4, 7, 5, 6) 30\n",
            "RunTime =  0.026466846466064453\n",
            "n = 8\n",
            "(1, 7, 2, 5, 6, 4, 8, 3) 37\n",
            "RunTime =  0.17508149147033691\n",
            "n = 9\n",
            "(1, 2, 8, 7, 9, 4, 6, 3, 5) 33\n",
            "RunTime =  1.6787166595458984\n",
            "n = 10\n",
            "(1, 3, 2, 10, 5, 6, 9, 7, 4, 8) 33\n",
            "RunTime =  19.956178426742554\n"
          ]
        }
      ]
    },
    {
      "cell_type": "code",
      "source": [
        "bruteforce([11, 12])"
      ],
      "metadata": {
        "colab": {
          "base_uri": "https://localhost:8080/",
          "height": 339
        },
        "id": "NmOkJzUf8rgn",
        "outputId": "59df4197-44e2-4fe7-a566-81e91147a6bd"
      },
      "execution_count": 11,
      "outputs": [
        {
          "output_type": "stream",
          "name": "stdout",
          "text": [
            "n = 11\n",
            "(1, 3, 8, 9, 5, 2, 10, 4, 6, 7, 11) 41\n",
            "RunTime =  284.8478138446808\n"
          ]
        },
        {
          "output_type": "error",
          "ename": "KeyboardInterrupt",
          "evalue": "ignored",
          "traceback": [
            "\u001b[0;31m---------------------------------------------------------------------------\u001b[0m",
            "\u001b[0;31mKeyboardInterrupt\u001b[0m                         Traceback (most recent call last)",
            "\u001b[0;32m<ipython-input-11-3a224047c4e7>\u001b[0m in \u001b[0;36m<module>\u001b[0;34m\u001b[0m\n\u001b[0;32m----> 1\u001b[0;31m \u001b[0mbruteforce\u001b[0m\u001b[0;34m(\u001b[0m\u001b[0;34m[\u001b[0m\u001b[0;36m11\u001b[0m\u001b[0;34m,\u001b[0m \u001b[0;36m12\u001b[0m\u001b[0;34m]\u001b[0m\u001b[0;34m)\u001b[0m\u001b[0;34m\u001b[0m\u001b[0;34m\u001b[0m\u001b[0m\n\u001b[0m",
            "\u001b[0;32m<ipython-input-10-0ef316716ba5>\u001b[0m in \u001b[0;36mbruteforce\u001b[0;34m(a)\u001b[0m\n\u001b[1;32m     28\u001b[0m         \u001b[0mnew_distance\u001b[0m \u001b[0;34m=\u001b[0m \u001b[0mdist\u001b[0m\u001b[0;34m[\u001b[0m\u001b[0mroute\u001b[0m\u001b[0;34m[\u001b[0m\u001b[0msize\u001b[0m\u001b[0;34m-\u001b[0m\u001b[0;36m1\u001b[0m\u001b[0;34m]\u001b[0m\u001b[0;34m-\u001b[0m\u001b[0;36m1\u001b[0m\u001b[0;34m]\u001b[0m\u001b[0;34m[\u001b[0m\u001b[0mroute\u001b[0m\u001b[0;34m[\u001b[0m\u001b[0;36m0\u001b[0m\u001b[0;34m]\u001b[0m\u001b[0;34m-\u001b[0m\u001b[0;36m1\u001b[0m\u001b[0;34m]\u001b[0m \u001b[0;31m#  back to the start inclued first\u001b[0m\u001b[0;34m\u001b[0m\u001b[0;34m\u001b[0m\u001b[0m\n\u001b[1;32m     29\u001b[0m         \u001b[0;32mfor\u001b[0m \u001b[0mi\u001b[0m \u001b[0;32min\u001b[0m \u001b[0mrange\u001b[0m\u001b[0;34m(\u001b[0m\u001b[0msize\u001b[0m\u001b[0;34m-\u001b[0m\u001b[0;36m1\u001b[0m\u001b[0;34m)\u001b[0m\u001b[0;34m:\u001b[0m\u001b[0;34m\u001b[0m\u001b[0;34m\u001b[0m\u001b[0m\n\u001b[0;32m---> 30\u001b[0;31m             \u001b[0mnew_distance\u001b[0m \u001b[0;34m=\u001b[0m \u001b[0mnew_distance\u001b[0m \u001b[0;34m+\u001b[0m \u001b[0mdist\u001b[0m\u001b[0;34m[\u001b[0m\u001b[0mroute\u001b[0m\u001b[0;34m[\u001b[0m\u001b[0mi\u001b[0m\u001b[0;34m]\u001b[0m\u001b[0;34m-\u001b[0m\u001b[0;36m1\u001b[0m\u001b[0;34m]\u001b[0m\u001b[0;34m[\u001b[0m\u001b[0mroute\u001b[0m\u001b[0;34m[\u001b[0m\u001b[0mi\u001b[0m\u001b[0;34m+\u001b[0m\u001b[0;36m1\u001b[0m\u001b[0;34m]\u001b[0m\u001b[0;34m-\u001b[0m\u001b[0;36m1\u001b[0m\u001b[0;34m]\u001b[0m \u001b[0;31m# now all the intermediate steps\u001b[0m\u001b[0;34m\u001b[0m\u001b[0;34m\u001b[0m\u001b[0m\n\u001b[0m\u001b[1;32m     31\u001b[0m \u001b[0;34m\u001b[0m\u001b[0m\n\u001b[1;32m     32\u001b[0m         \u001b[0;31m##### Check if new path is shorter than best path\u001b[0m\u001b[0;34m\u001b[0m\u001b[0;34m\u001b[0m\u001b[0m\n",
            "\u001b[0;31mKeyboardInterrupt\u001b[0m: "
          ]
        }
      ]
    },
    {
      "cell_type": "markdown",
      "source": [
        "# part2 hill climb"
      ],
      "metadata": {
        "id": "5wSvsOLyCy7Q"
      }
    },
    {
      "cell_type": "markdown",
      "source": [
        "#Q 3\n"
      ],
      "metadata": {
        "id": "EFFccDujC6UW"
      }
    },
    {
      "cell_type": "code",
      "source": [
        "import random\n",
        "import numpy \n",
        "\n",
        "########## Data for the question\n",
        "\n",
        "### Distance Matrix Question 3\n",
        "dist = numpy.array([\n",
        "    [0,17,10,5,4,9,14,10,21,16],\n",
        "    [17,0,11,14,13,8,21,8,13,11], \n",
        "    [10,11,0,6,7,5,10,4,10,5],\n",
        "    [5,14,6,0,3,7,11,6,16,11],\n",
        "    [4,13,7,3,0,5,14,6,17,12],\n",
        "    [9,8,5,7,5,0,15,1,14,9],\n",
        "    [14,21,10,11,14,15,0,14,14,11],\n",
        "    [10,8,4,6,6,1,14,0,13,8],\n",
        "    [21,13,10,16,17,14,14,13,0,5],\n",
        "    [16,11,5,11,12,9,11,8,5,0]\n",
        "    ])    \n",
        "    \n",
        "\n",
        "## Distance Matrix Question 4\n",
        "dist = numpy.array([   \n",
        "    [0, 50, 49, 63, 47,\t57, 37, 72, 42, 49, 68, 65, 10, 52, 85],\n",
        "    [50, 0, 71, 89, 11,\t51, 54, 71, 72, 55, 84, 67, 54, 48, 87],\n",
        "    [49, 71, 0, 28, 3, 88, 75, 70, 88, 86, 51, 104, 59, 80, 76],\n",
        "    [63, 89, 28, 0, 30, 83, 77, 50, 95, 84, 28, 102, 73, 75, 52],\n",
        "    [47, 11, 3, 30, 0, 86, 73, 70, 86, 84, 52, 102, 57, 79, 77],\n",
        "    [57, 51, 88, 83, 86, 0, 21, 51, 37, 11, 66, 21, 55, 8, 65], \n",
        "    [37, 54, 75, 77, 73, 21, 0, 59, 21, 13, 67, 29, 34, 21, 74],\n",
        "    [72, 71, 70, 50, 70, 51, 59, 0, 80, 58, 23, 71, 78, 43, 15],\n",
        "    [42, 72, 88, 95, 86, 37, 21, 80, 0, 26, 88, 31, 34, 40, 95],\n",
        "    [49, 55, 86, 84, 84, 11, 13, 58, 26, 0, 71, 18, 47, 15, 73],\n",
        "    [68, 84, 51, 28, 52, 66, 67, 23, 88, 71, 0, 86, 76, 58, 25],\n",
        "    [65, 67, 104, 102, 102, 21, 29, 71, 31, 18, 86, 0, 60, 29, 85],\n",
        "    [10, 54, 59, 73, 57, 55, 34, 78, 34, 47, 76, 60, 0, 53, 92],\n",
        "    [52, 48, 80, 75, 79, 8, 21, 43, 40, 15, 58, 29, 53, 0, 58],\n",
        "    [85, 87, 76, 52, 77, 65, 74, 15, 95, 73, 25, 85, 92, 58, 0],\n",
        "    ]) \n",
        "\n",
        "########## Create initial solution\n",
        "for h in range(20):\n",
        "\n",
        "  size = len(dist[1,:])    #Gives the number of nodes\n",
        "  best_path = []\n",
        "  for i in range(size):\n",
        "      best_path.append(i+1)   #Buids up a vector of 1,2,3,4...,n    \n",
        "  random.shuffle(best_path)  #Randomise path to get initial solution\n",
        "\n",
        "\n",
        "  ##### Find distance of initial solution\n",
        "\n",
        "\n",
        "  best_distance =  dist[best_path[size-1]-1][best_path[0]-1]  #Distance from final node to start  node\n",
        "  for i in range(size-1):\n",
        "      best_distance = best_distance + dist[best_path[i]-1][best_path[i+1]-1]  #Add distances of each part of the path\n",
        "\n",
        "\n",
        "  ##########Hill-climb Algorithm\n",
        "\n",
        "  number_of_swaps = 5000 #Number of hill-climb steps\n",
        "\n",
        "  for x in range(number_of_swaps) :\n",
        "      ##### Create a new path\n",
        "      entry1 = random.randint(1,len(best_path)-1) # randomly choose first entry\n",
        "      entry2 = random.randint(1,len(best_path)-1) # randomly choose second entry\n",
        "      new_path = best_path.copy() \n",
        "      new_path[entry1],new_path[entry2] = new_path[entry2],new_path[entry1] #changes the vector given the two random entries to swap\n",
        "      \n",
        "      ##### Calculate distance of the new path\n",
        "      new_distance = dist[new_path[size-1]-1][new_path[0]-1]  #Distance from final node to start node\n",
        "      for i in range(len(new_path)-1):\n",
        "          new_distance = new_distance + dist[new_path[i]-1][new_path[i+1]-1]\n",
        "          \n",
        "      ##### Check if new path is shorter than best path  \n",
        "      if new_distance < best_distance:\n",
        "          best_path = new_path.copy()\n",
        "          best_distance = new_distance\n",
        "\n",
        "  print(f\"run {h+1}\")    \n",
        "  print (best_path,best_distance)\n"
      ],
      "metadata": {
        "colab": {
          "base_uri": "https://localhost:8080/"
        },
        "id": "hqsUkDojC8Au",
        "outputId": "878a687d-878e-4a4d-907d-fd75fd9ebb7d"
      },
      "execution_count": 19,
      "outputs": [
        {
          "output_type": "stream",
          "name": "stdout",
          "text": [
            "run 1\n",
            "[9, 10, 2, 5, 3, 4, 11, 15, 8, 1, 13, 7, 14, 6, 12] 388\n",
            "run 2\n",
            "[7, 1, 2, 5, 3, 4, 11, 14, 6, 8, 15, 13, 9, 12, 10] 477\n",
            "run 3\n",
            "[1, 13, 7, 10, 6, 14, 8, 15, 11, 4, 3, 5, 2, 12, 9] 369\n",
            "run 4\n",
            "[8, 6, 12, 10, 7, 9, 13, 1, 3, 5, 2, 14, 4, 11, 15] 422\n",
            "run 5\n",
            "[14, 1, 13, 9, 7, 10, 12, 6, 15, 8, 2, 5, 3, 4, 11] 448\n",
            "run 6\n",
            "[13, 15, 8, 14, 2, 5, 3, 4, 11, 6, 12, 10, 7, 9, 1] 459\n",
            "run 7\n",
            "[7, 12, 9, 13, 1, 2, 5, 3, 4, 11, 15, 8, 14, 6, 10] 339\n",
            "run 8\n",
            "[3, 4, 11, 15, 8, 14, 6, 10, 2, 5, 1, 7, 12, 9, 13] 461\n",
            "run 9\n",
            "[11, 4, 13, 1, 3, 5, 2, 14, 6, 10, 12, 9, 7, 8, 15] 410\n",
            "run 10\n",
            "[6, 10, 7, 9, 13, 1, 2, 5, 3, 4, 11, 15, 8, 14, 12] 342\n",
            "run 11\n",
            "[8, 11, 1, 13, 9, 7, 2, 5, 3, 4, 14, 10, 12, 6, 15] 461\n",
            "run 12\n",
            "[9, 7, 8, 15, 11, 4, 13, 1, 3, 5, 2, 14, 6, 10, 12] 410\n",
            "run 13\n",
            "[9, 12, 6, 10, 13, 1, 4, 3, 5, 2, 14, 8, 15, 11, 7] 444\n",
            "run 14\n",
            "[3, 4, 11, 15, 8, 14, 6, 12, 10, 7, 9, 13, 1, 2, 5] 328\n",
            "run 15\n",
            "[3, 4, 11, 1, 13, 9, 7, 10, 12, 6, 14, 15, 8, 2, 5] 407\n",
            "run 16\n",
            "[11, 4, 3, 5, 2, 14, 10, 9, 12, 6, 15, 8, 7, 13, 1] 462\n",
            "run 17\n",
            "[1, 13, 2, 5, 3, 4, 11, 15, 8, 14, 6, 12, 10, 7, 9] 340\n",
            "run 18\n",
            "[10, 12, 6, 14, 15, 8, 2, 5, 3, 4, 11, 1, 13, 9, 7] 407\n",
            "run 19\n",
            "[5, 3, 4, 11, 15, 8, 14, 6, 12, 10, 7, 9, 13, 1, 2] 328\n",
            "run 20\n",
            "[5, 3, 2, 10, 7, 1, 13, 9, 12, 6, 14, 8, 15, 11, 4] 424\n"
          ]
        }
      ]
    },
    {
      "cell_type": "code",
      "source": [],
      "metadata": {
        "id": "APOjaHSwC2Ny"
      },
      "execution_count": null,
      "outputs": []
    },
    {
      "cell_type": "markdown",
      "source": [
        "# part 3"
      ],
      "metadata": {
        "id": "_TLip8Q4IQO8"
      }
    },
    {
      "cell_type": "code",
      "source": [
        "###Example of a Genetic Algirthm for TSP \n",
        "\n",
        "# PART 1 = Creates the Distance Matrix\n",
        "# PART 2 = Plots the optimial route on a map.\n",
        "# PART 3 = Calculates the distance of a given path\n",
        "# PART 4 = Main GA parameters (Probability of creating each type of child)\n",
        "# PART 5 = Carries out a Crossover\n",
        "# PART 6 = Carries out a Mutation\n",
        "# PART 7 = Selects the fittest parents\n",
        "# PART 8 = Creates the new population for the next generation\n",
        "# PART 9 = number of generations\n",
        "# PART 10 =  Input the data for the problem\n",
        "# PART 11 = Run the main GA (including population size)\n",
        "\n",
        "\n",
        "\n",
        "\n",
        "\n",
        "import sys, math, random, heapq\n",
        "import matplotlib.pyplot as plt\n",
        "from itertools import chain\n",
        "\n",
        "if sys.version_info < (3, 0):\n",
        "   sys.exit(\"\"\"Sorry, requires Python 3.x, not Python 2.x.\"\"\")\n",
        "\n",
        "class Graph:\n",
        "\n",
        "    def __init__(self, vertices):\n",
        "        self.vertices = vertices\n",
        "        self.n = len(vertices)\n",
        "\n",
        "    def x(self, v):\n",
        "        return self.vertices[v][0]\n",
        "\n",
        "    def y(self, v):\n",
        "        return self.vertices[v][1]\n",
        "\n",
        "    # Lookup table for distances\n",
        "    _d_lookup = {}\n",
        "\n",
        "###########################################################################\n",
        "##### PART 1: Converts grid co-ordinates of the nodes into a distance matrix\n",
        "\n",
        "    def d(self, u, v):\n",
        "        # Check if the distance was computed before\n",
        "        if (u, v) in self._d_lookup:\n",
        "            return self._d_lookup[(u, v)]\n",
        "        # Otherwise compute euclidean distance\n",
        "        _distance = math.sqrt((u[0] - v[0])**2 + (u[1] - v[1])**2)\n",
        "        # Add to dictionary\n",
        "        self._d_lookup[(u, v)], self._d_lookup[(v, u)] = _distance, _distance\n",
        "        return _distance\n",
        "\n",
        "###########################################################################\n",
        "##### PART 2: Plots the final optimal route\n",
        "\n",
        "    def plot(self, tour=None):\n",
        "        \"\"\"Plots the cities and superimposes given tour\"\"\"\n",
        "        if tour is None:\n",
        "            tour = Tour(self, [])\n",
        "\n",
        "        _vertices = [self.vertices[0]]\n",
        "\n",
        "        for i in tour.vertices:\n",
        "            _vertices.append(self.vertices[i])\n",
        "\n",
        "        _vertices.append(self.vertices[0])\n",
        "\n",
        "        plt.title(\"Cost = \" + str(tour.cost()))\n",
        "        plt.plot(*zip(*_vertices), '-r')\n",
        "        plt.scatter(*zip(*self.vertices), c=\"b\", s=10, marker=\"s\")\n",
        "        plt.show()\n",
        "\n",
        "###########################################################################\n",
        "##### PART 3: Calculates the distance of a given (full) path\n",
        "class Tour:\n",
        "\n",
        "    def __init__(self, g, vertices = None):\n",
        "        \"\"\"Generate random tour in given graph g\"\"\"\n",
        "        self.g = g\n",
        "        if vertices is None:\n",
        "            self.vertices = list(range(1, g.n))\n",
        "            random.shuffle(self.vertices)\n",
        "        else:\n",
        "            self.vertices = vertices\n",
        "        self.__cost = None\n",
        "\n",
        "    def cost(self):\n",
        "        \"\"\"Return total edge-cost of tour\"\"\"\n",
        "        if self.__cost is None:\n",
        "            self.__cost = 0\n",
        "            for i, j in zip([0] + self.vertices, self.vertices + [0]):\n",
        "                self.__cost += self.g.d(self.g.vertices[i], self.g.vertices[j])\n",
        "        return self.__cost\n",
        "\n",
        "###########################################################################\n",
        "##### PART 4: IMPORTANT Main GA parameters (Probability of creating each type of child)\n",
        "\n",
        "class GeneticAlgorithm:\n",
        "\n",
        "    def __init__(self, g, population_size, k=5, elite_mating_rate=0.5,\n",
        "                 mutation_rate=0.015, mutation_swap_rate=0.2):   #Probability of each type of child being created\n",
        "        \"\"\"Initialises algorithm parameters\"\"\"\n",
        "\n",
        "        self.g = g\n",
        "        \n",
        "        self.population = []\n",
        "        for _ in range(population_size):\n",
        "            self.population.append(Tour(g))\n",
        "\n",
        "        self.population_size = population_size\n",
        "        self.k = k\n",
        "        self.elite_mating_rate = elite_mating_rate\n",
        "        self.mutation_rate = mutation_rate\n",
        "        self.mutation_swap_rate = mutation_swap_rate\n",
        "        \n",
        "###########################################################################\n",
        "##### PART 5 = Crossover - as described in Teaching Material (Week 11 = AI)\n",
        "\n",
        "    def crossover(self, mum, dad):\n",
        "        \"\"\"Implements ordered crossover\"\"\"\n",
        "\n",
        "        size = len(mum.vertices)\n",
        "\n",
        "        # Choose random start/end position for crossover\n",
        "        alice, bob = [-1] * size, [-1] * size\n",
        "        start, end = sorted([random.randrange(size) for _ in range(2)])\n",
        "\n",
        "        # Replicate mum's sequence for alice, dad's sequence for bob\n",
        "        for i in range(start, end + 1):\n",
        "            alice[i] = mum.vertices[i]\n",
        "            bob[i] = dad.vertices[i]\n",
        "\n",
        "        # Fill the remaining position with the other parents' entries\n",
        "        current_dad_position, current_mum_position = 0, 0\n",
        "\n",
        "        for i in chain(range(start), range(end + 1, size)):\n",
        "\n",
        "            while dad.vertices[current_dad_position] in alice:\n",
        "                current_dad_position += 1\n",
        "\n",
        "            while mum.vertices[current_mum_position] in bob:\n",
        "                current_mum_position += 1\n",
        "\n",
        "            alice[i] = dad.vertices[current_dad_position]\n",
        "            bob[i] = mum.vertices[current_mum_position]\n",
        "\n",
        "        # Return twins\n",
        "        return Tour(self.g, alice), Tour(self.g, bob)\n",
        "\n",
        "###########################################################################\n",
        "##### PART 6 = Mutation - swaps pairs, as in TSP_HillClimb.py and described in Week 10, but can swap multiple pairs.\n",
        "    def mutate(self, tour):\n",
        "        \"\"\"Randomly swaps pairs of cities in a given tour according to mutation rate\"\"\"\n",
        "\n",
        "        # Decide whether to mutate\n",
        "        if random.random() < self.mutation_rate:\n",
        "\n",
        "            # For each vertex\n",
        "            for i in range(len(tour.vertices)):\n",
        "\n",
        "                # Randomly decide whether to swap node i\n",
        "                if random.random() < self.mutation_swap_rate:\n",
        "\n",
        "                    # Randomly choose other node to swap j\n",
        "                    j = random.randrange(len(tour.vertices))\n",
        "\n",
        "                    # Swap i and j\n",
        "                    tour.vertices[i], tour.vertices[j] = tour.vertices[j], tour.vertices[i]\n",
        "\n",
        "###########################################################################\n",
        "##### PART 7 = Selects the fittest parents = takes a random sample of solutions and picks \"best\" solutions from that sample\n",
        "    def select_parent(self, k):\n",
        "        \"\"\"Implements k-tournament selection to choose parents\"\"\"\n",
        "        tournament = random.sample(self.population, k)\n",
        "        return max(tournament, key=lambda t: t.cost())\n",
        "\n",
        "\n",
        "###########################################################################\n",
        "##### PART 8 = Creates the new population for the next generation\n",
        "\n",
        "    def evolve(self):\n",
        "        \"\"\"Executes one iteration of the genetic algorithm to obtain a new generation\"\"\"\n",
        "\n",
        "        new_population = []\n",
        "\n",
        "        for _ in range(self.population_size):\n",
        "\n",
        "            # K-tournament for parents\n",
        "            mum, dad = self.select_parent(self.k), self.select_parent(self.k)\n",
        "            alice, bob = self.crossover(mum, dad)\n",
        "\n",
        "            # keep children if better than a parent\n",
        "            if random.random() < self.elite_mating_rate:\n",
        "                if alice.cost() < mum.cost() or alice.cost() < dad.cost():\n",
        "                    new_population.append(alice)\n",
        "                if bob.cost() < mum.cost() or bob.cost() < dad.cost():\n",
        "                    new_population.append(bob)\n",
        "\n",
        "            else:\n",
        "                self.mutate(alice)\n",
        "                self.mutate(bob)\n",
        "                new_population += [alice, bob]\n",
        "\n",
        "        # Add new population to old\n",
        "        self.population += new_population\n",
        "\n",
        "        # Take the fittest individuals in population, including Elitism\n",
        "        self.population = heapq.nsmallest(self.population_size, self.population, key=lambda t: t.cost())\n",
        "\n",
        "###########################################################################\n",
        "##### PART 9 = IMPORTANT ##### number of generations = (similar to number of steps in hill-climb)\n",
        "\n",
        "    def run(self, iterations=200):  #Number of Generations: more = better, but takes longer\n",
        "        for _ in range(iterations):\n",
        "            self.evolve()\n",
        "\n",
        "    def best(self):\n",
        "        return max(self.population, key=lambda t: t.cost())\n",
        "\n",
        "###########################################################################\n",
        "##### PART 10 =  IMPORTANT ## Input the data for the problem\n",
        "\n",
        "#Practical 9, Question 5\n",
        "g = Graph([\n",
        "(30,32),\n",
        "(73,6),\n",
        "(77,17),\n",
        "(93,40),\n",
        "(74,17),\n",
        "(26,89),\n",
        "(21,68),\n",
        "(76,87),\n",
        "(1,61),\n",
        "(19,80),\n",
        "(88,67),\n",
        "(5,92),\n",
        "(20,33),\n",
        "(33,84),\n",
        "(91,92),\n",
        "])\n",
        "\n",
        "###########################################################################\n",
        "##### PART 11 = IMPORTANT ## Runs the main GA (including population size)\n",
        "for _ in range(5):\n",
        "\n",
        "  ga = GeneticAlgorithm(g, 100)    #Inputs (graph co-ordinates, POPULATION SIZE)  more = better, but takes longer\n",
        "  ga.run()\n",
        "\n",
        "\n",
        "  ########## Output\n",
        "  best_tour = ga.best()\n",
        "  g.plot(best_tour)   #Plots the path on a graph\n",
        "\n",
        "  best_path = best_tour.vertices\n",
        "  size = len (g.vertices)\n",
        "  for i in range(size-1):\n",
        "      best_path[i]=best_path[i]+1   #Must +1 to nodes to chnage numbering from (0,n-1) to (1,n)\n",
        "  best_path.insert(0,1)   #Adds start node to the list\n",
        "  print(best_path,best_tour._Tour__cost)   #Prints the best path and distance\n"
      ],
      "metadata": {
        "colab": {
          "base_uri": "https://localhost:8080/",
          "height": 1000
        },
        "id": "dUV7DSjdITt0",
        "outputId": "6e65150e-418d-4a75-f5c6-df407ebc31ce"
      },
      "execution_count": 34,
      "outputs": [
        {
          "output_type": "display_data",
          "data": {
            "text/plain": [
              "<Figure size 432x288 with 1 Axes>"
            ],
            "image/png": "[encoded data removed]"
          },
          "metadata": {
            "needs_background": "light"
          }
        },
        {
          "output_type": "stream",
          "name": "stdout",
          "text": [
            "[1, 13, 9, 7, 10, 12, 6, 14, 8, 15, 11, 4, 3, 5, 2] 329.3644070906388\n"
          ]
        },
        {
          "output_type": "display_data",
          "data": {
            "text/plain": [
              "<Figure size 432x288 with 1 Axes>"
            ],
            "image/png": "[encoded data removed]"
          },
          "metadata": {
            "needs_background": "light"
          }
        },
        {
          "output_type": "stream",
          "name": "stdout",
          "text": [
            "[1, 13, 9, 7, 10, 12, 6, 14, 8, 15, 11, 4, 3, 5, 2] 329.3644070906388\n"
          ]
        },
        {
          "output_type": "display_data",
          "data": {
            "text/plain": [
              "<Figure size 432x288 with 1 Axes>"
            ],
            "image/png": "[encoded data removed]"
          },
          "metadata": {
            "needs_background": "light"
          }
        },
        {
          "output_type": "stream",
          "name": "stdout",
          "text": [
            "[1, 2, 5, 3, 4, 11, 15, 8, 14, 6, 12, 10, 7, 9, 13] 329.3644070906388\n"
          ]
        },
        {
          "output_type": "display_data",
          "data": {
            "text/plain": [
              "<Figure size 432x288 with 1 Axes>"
            ],
            "image/png": "[encoded data removed]"
          },
          "metadata": {
            "needs_background": "light"
          }
        },
        {
          "output_type": "stream",
          "name": "stdout",
          "text": [
            "[1, 2, 5, 3, 4, 11, 15, 8, 14, 6, 10, 12, 7, 9, 13] 336.23184304914923\n"
          ]
        },
        {
          "output_type": "display_data",
          "data": {
            "text/plain": [
              "<Figure size 432x288 with 1 Axes>"
            ],
            "image/png": "[encoded data removed]"
          },
          "metadata": {
            "needs_background": "light"
          }
        },
        {
          "output_type": "stream",
          "name": "stdout",
          "text": [
            "[1, 13, 9, 7, 10, 12, 6, 14, 8, 15, 11, 4, 3, 5, 2] 329.3644070906388\n"
          ]
        }
      ]
    },
    {
      "cell_type": "code",
      "source": [],
      "metadata": {
        "id": "oUffc8RfIT0j"
      },
      "execution_count": 19,
      "outputs": []
    },
    {
      "cell_type": "code",
      "source": [],
      "metadata": {
        "id": "HIop8uAJIT_D"
      },
      "execution_count": 19,
      "outputs": []
    },
    {
      "cell_type": "code",
      "source": [],
      "metadata": {
        "id": "92zc3_R7IUD8"
      },
      "execution_count": null,
      "outputs": []
    },
    {
      "cell_type": "code",
      "source": [],
      "metadata": {
        "id": "EEOGQqDRCukZ"
      },
      "execution_count": null,
      "outputs": []
    }
  ]
}